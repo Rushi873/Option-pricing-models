{
  "nbformat": 4,
  "nbformat_minor": 0,
  "metadata": {
    "colab": {
      "provenance": [],
      "include_colab_link": true
    },
    "kernelspec": {
      "name": "python3",
      "display_name": "Python 3"
    },
    "language_info": {
      "name": "python"
    }
  },
  "cells": [
    {
      "cell_type": "markdown",
      "metadata": {
        "id": "view-in-github",
        "colab_type": "text"
      },
      "source": [
        "<a href=\"https://colab.research.google.com/github/Rushi873/Option-pricing-models/blob/main/Modified_Black_Scholes.ipynb\" target=\"_parent\"><img src=\"https://colab.research.google.com/assets/colab-badge.svg\" alt=\"Open In Colab\"/></a>"
      ]
    },
    {
      "cell_type": "markdown",
      "source": [
        "For modification of the black scholes model, We are implementing risk free interset rate as bond yield instead of repo rate, because the bond yield is the annual rate of return on bond, exposed as percentage of the bondholder invested capital and this bonds are provided by government so the possibility of the default is very low. Thus can be considered as risk free interset rate"
      ],
      "metadata": {
        "id": "lMCyw7zoH1wY"
      }
    },
    {
      "cell_type": "code",
      "execution_count": 1,
      "metadata": {
        "id": "xs0pNEatGvNp"
      },
      "outputs": [],
      "source": [
        "import math\n",
        "from scipy.stats import norm\n",
        "import numpy as np"
      ]
    },
    {
      "cell_type": "code",
      "source": [
        "#defining the variables\n",
        "\n",
        "strike_prices = [\n",
        "    19300, 19350,\n",
        "    19400, 19450, 19500, 19550, 19600,\n",
        "    19650, 19700, 19750, 19800, 19850, 19900,\n",
        "    19950, 20000, 20050, 20100\n",
        "]\n",
        "\n",
        "\n",
        "n = len(strike_prices)\n",
        "\n",
        "S = np.full(n, 19433.55)   #stock price, np array\n",
        "\n",
        "K = np.array(strike_prices)  #stock price, np array\n",
        "\n",
        "volatilities = [\n",
        "    6.64, 7.71, 7.71, 7.91, 8.12, 8.25, 8.4, 8.45, 8.88, 9.45,\n",
        "    10.09, 10.79, 11.68, 12.58, 13.49, 14.36, 15.18\n",
        "]\n",
        "\n",
        "volatilities_array = np.array(volatilities)\n",
        "v = volatilities_array /100    # volatility (%), np array\n",
        "vol = np.average(v)\n",
        "\n",
        "T = np.full(n, 0.02465753425)  # time in years, np array\n",
        "\n",
        "bond_yield = np.array([\n",
        "    7.283, 7.3, 7.269, 7.266, 7.28, 7.305, 7.317, 7.322, 7.358, 7.351,\n",
        "    7.369, 7.351, 7.366, 7.343, 7.382, 7.365, 7.369, 7.353, 7.328, 7.333\n",
        "])                # taking the average of the bond interset rate as risk free interset rate, the data of last one month for bond yield\n",
        "days = len(bond_yield)\n",
        "bond_yield = bond_yield/100\n",
        "av_bond_yield = np.average(bond_yield)  # risk free interset rate -> bond yield\n",
        "\n",
        "r = np.full(n, av_bond_yield)\n",
        "\n",
        "q  = np.full(n, 0.0168)  # dividend yield\n",
        "\n",
        "total_rate = 0\n",
        "d1 = 0\n",
        "\n",
        "# intializing the list\n",
        "d_1 = []\n",
        "d_2 = []\n",
        "\n"
      ],
      "metadata": {
        "id": "yDwXJaqwH_Tb"
      },
      "execution_count": 2,
      "outputs": []
    },
    {
      "cell_type": "markdown",
      "source": [
        "For the stock price of the option at end of expiry, we can consider the stock price at the discounted rate by the with respect to the dividend yield(q). Using S_new = S* math.exp(-q*T)"
      ],
      "metadata": {
        "id": "qSzwT9GZWAvN"
      }
    },
    {
      "cell_type": "code",
      "source": [
        "# taking the average of the d0 value to get d1\n",
        "for i in range(n):\n",
        "  for rate in bond_yield:\n",
        "    d0 = (math.log(S[i]* math.exp(-q[i]*T[i])/K[i]) + (rate + 0.5 * vol**2)*T[i] )/( vol * math.sqrt(T[i]))\n",
        "    d1 += d0\n",
        "    total_rate += rate\n",
        "    d1=d1/days\n",
        "\n",
        "  d2 = d1 - vol * T[i]**0.5\n",
        "\n",
        "  d_1.append(d1)\n",
        "  d_2.append(d2)\n",
        "\n",
        "print(d_1)\n",
        "print(d_2)\n"
      ],
      "metadata": {
        "id": "_hjY-RyiIZf3",
        "colab": {
          "base_uri": "https://localhost:8080/"
        },
        "outputId": "d0cf8e1f-3078-4888-b5fc-7a5dd7114762"
      },
      "execution_count": 3,
      "outputs": [
        {
          "output_type": "stream",
          "name": "stdout",
          "text": [
            "[0.028248243283160317, 0.019560339705843116, 0.010894856549773095, 0.0022516783943129356, -0.006369309292179062, -0.014968220161459508, -0.02354516699438837, -0.03210026170980484, -0.04063361537328799, -0.04914533820581148, -0.05763553959228372, -0.06610432808998279, -0.07455181143688434, -0.08297809655988644, -0.09138328958292997, -0.09976749583501855, -0.10813081985813733]\n",
            "[0.012574159971895364, 0.003886256394578163, -0.004779226761491858, -0.013422404916952017, -0.022043392603444015, -0.03064230347272446, -0.03921925030565332, -0.047774345021069795, -0.056307698684552945, -0.06481942151707644, -0.07330962290354867, -0.08177841140124774, -0.0902258947481493, -0.0986521798711514, -0.10705737289419492, -0.1154415791462835, -0.12380490316940228]\n"
          ]
        }
      ]
    },
    {
      "cell_type": "code",
      "source": [
        "#for calculation of option price\n",
        "call_price = []\n",
        "put_price = []\n",
        "\n",
        "\n",
        "for i in range(n):\n",
        "\n",
        "  #CALL OPTION PRICE\n",
        "  C = abs(S[i]* math.exp(-q[i]*T[i])* norm.cdf(d_1[i]) - K[i] * math.exp(-r[i]*T[i]) * norm.cdf(d_2[i]))\n",
        "  call_price.append(C)\n",
        "\n",
        "  #PUT OPTION PRICE\n",
        "  P = abs(K[i]*math.exp(-r[i]*T[i])*norm.cdf(-d_2[i]) - S[i]*math.exp(-q[i]*T[i])*norm.cdf(-d_1[i]))\n",
        "  put_price.append(P)\n",
        "\n",
        "\n",
        "for element in call_price:\n",
        "    print(element)\n",
        "\n",
        "print()\n",
        "\n",
        "for e in put_price:\n",
        "    print(e)\n",
        "\n",
        "\n",
        "\n"
      ],
      "metadata": {
        "colab": {
          "base_uri": "https://localhost:8080/"
        },
        "id": "U1Htx_LBKhoD",
        "outputId": "264d17ea-671f-489a-eb92-afc35d6c990a"
      },
      "execution_count": 4,
      "outputs": [
        {
          "output_type": "stream",
          "name": "stdout",
          "text": [
            "202.42406632294114\n",
            "176.8530216851923\n",
            "151.61929552987567\n",
            "126.72163737020855\n",
            "102.15875564272574\n",
            "77.92931857737494\n",
            "54.03195506779048\n",
            "30.465255541372244\n",
            "7.227772828702655\n",
            "15.681976968020535\n",
            "38.26551360799931\n",
            "60.52439184663854\n",
            "82.46020057248097\n",
            "104.07456194669794\n",
            "125.36913054541219\n",
            "146.3455925052258\n",
            "167.00566467228782\n",
            "\n",
            "42.06904293005027\n",
            "66.40770389396312\n",
            "91.08368334031184\n",
            "116.09573078230824\n",
            "141.44255465648712\n",
            "167.12282319280348\n",
            "193.13516528488617\n",
            "219.47817136012782\n",
            "246.15039424912538\n",
            "273.1503500540657\n",
            "300.4765190157468\n",
            "328.12734637877656\n",
            "356.101243254594\n",
            "384.39658748204056\n",
            "413.0117244849953\n",
            "441.94496812684156\n",
            "471.19460156144305\n"
          ]
        }
      ]
    },
    {
      "cell_type": "code",
      "source": [],
      "metadata": {
        "id": "lCVqKslxfaG2"
      },
      "execution_count": 4,
      "outputs": []
    }
  ]
}