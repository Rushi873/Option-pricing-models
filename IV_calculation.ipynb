{
  "nbformat": 4,
  "nbformat_minor": 0,
  "metadata": {
    "colab": {
      "provenance": [],
      "authorship_tag": "ABX9TyNP1P1IgqTFj0wnHwcw9tbA",
      "include_colab_link": true
    },
    "kernelspec": {
      "name": "python3",
      "display_name": "Python 3"
    },
    "language_info": {
      "name": "python"
    }
  },
  "cells": [
    {
      "cell_type": "markdown",
      "metadata": {
        "id": "view-in-github",
        "colab_type": "text"
      },
      "source": [
        "<a href=\"https://colab.research.google.com/github/Rushi873/Option-pricing-models/blob/main/IV_calculation.ipynb\" target=\"_parent\"><img src=\"https://colab.research.google.com/assets/colab-badge.svg\" alt=\"Open In Colab\"/></a>"
      ]
    },
    {
      "cell_type": "markdown",
      "source": [
        "For Implied volitility calculation"
      ],
      "metadata": {
        "id": "s7qpaE016zj4"
      }
    },
    {
      "cell_type": "code",
      "execution_count": 1,
      "metadata": {
        "id": "NwauhvMAxgL3"
      },
      "outputs": [],
      "source": [
        "from scipy.optimize import fmin\n",
        "import numpy as np\n",
        "import scipy.stats as si\n"
      ]
    },
    {
      "cell_type": "code",
      "source": [
        "# For normal distribution\n",
        "\n",
        "def NORMSDIST(x):\n",
        "    NORMSDIST = si.norm.cdf(x,0.0,1.0)\n",
        "    return(NORMSDIST)"
      ],
      "metadata": {
        "id": "kGvjmTlN-FfV"
      },
      "execution_count": 2,
      "outputs": []
    },
    {
      "cell_type": "code",
      "source": [
        "# Inputing the values\n",
        "\n",
        "S = 60      # stock price\n",
        "K = 65      # strike price\n",
        "r = 0.077   # risk free interset rate\n",
        "T = 0.25    # time period in terms of year\n",
        "ce = 4      # call option price"
      ],
      "metadata": {
        "id": "IWTxmOha7BGq"
      },
      "execution_count": 3,
      "outputs": []
    },
    {
      "cell_type": "markdown",
      "source": [
        "We are using Newton Rapson method to backtrack the value of the implied volitility, This iterative method will final provide with value of implied volitility"
      ],
      "metadata": {
        "id": "VxK7Fcnf8kOK"
      }
    },
    {
      "cell_type": "code",
      "source": [
        "def ImpliedVolatilityPut(s):\n",
        "    d1 = ( (np.log(S/K)+(r+0.5*s[0]**2)*T) / (s[0]*np.sqrt(T)) )\n",
        "    d2 = ( (np.log(S/K)+(r-0.5*s[0]**2)*T) / (s[0]*np.sqrt(T)) )\n",
        "    of = (  K*np.exp(-r*T)*NORMSDIST(-d2) - S*NORMSDIST(-d1) ) - ce\n",
        "    value = of**2\n",
        "    print(\"[σ]=\",s,\", Object Function Value:\", value)\n",
        "    return(value)"
      ],
      "metadata": {
        "id": "g-QBobK77BMy"
      },
      "execution_count": 4,
      "outputs": []
    },
    {
      "cell_type": "code",
      "source": [
        "s = fmin(ImpliedVolatilityPut, [0.3])"
      ],
      "metadata": {
        "colab": {
          "base_uri": "https://localhost:8080/"
        },
        "id": "Ap1MqAkY7BPZ",
        "outputId": "0ff898cf-d016-4646-aca9-348fe3683f7a"
      },
      "execution_count": 5,
      "outputs": [
        {
          "output_type": "stream",
          "name": "stdout",
          "text": [
            "[σ]= [0.3] , Object Function Value: 3.5304906367143745\n",
            "[σ]= [0.315] , Object Function Value: 4.200845496871554\n",
            "[σ]= [0.285] , Object Function Value: 2.9229884443205822\n",
            "[σ]= [0.27] , Object Function Value: 2.3776505459128603\n",
            "[σ]= [0.24] , Object Function Value: 1.469903673773253\n",
            "[σ]= [0.21] , Object Function Value: 0.7978808723792246\n",
            "[σ]= [0.15] , Object Function Value: 0.0947428656690018\n",
            "[σ]= [0.09] , Object Function Value: 0.01580199578910495\n",
            "[σ]= [-0.03] , Object Function Value: 16.000041903775813\n",
            "[σ]= [0.15] , Object Function Value: 0.0947428656690018\n",
            "[σ]= [0.03] , Object Function Value: 0.05725414697871545\n",
            "[σ]= [0.06] , Object Function Value: 0.050450127956399665\n",
            "[σ]= [0.12] , Object Function Value: 0.0038590953433629807\n",
            "[σ]= [0.15] , Object Function Value: 0.0947428656690018\n",
            "[σ]= [0.15] , Object Function Value: 0.0947428656690018\n",
            "[σ]= [0.105] , Object Function Value: 0.0016708172764391099\n",
            "[σ]= [0.09] , Object Function Value: 0.01580199578910495\n",
            "[σ]= [0.1125] , Object Function Value: 7.420055018696291e-05\n",
            "[σ]= [0.12] , Object Function Value: 0.0038590953433629807\n",
            "[σ]= [0.10875] , Object Function Value: 0.0002776940039493415\n",
            "[σ]= [0.11625] , Object Function Value: 0.0012177182857620872\n",
            "[σ]= [0.110625] , Object Function Value: 1.7259169626632546e-05\n",
            "[σ]= [0.10875] , Object Function Value: 0.0002776940039495783\n",
            "[σ]= [0.1115625] , Object Function Value: 4.830931646912281e-06\n",
            "[σ]= [0.1125] , Object Function Value: 7.420055018708532e-05\n",
            "[σ]= [0.11109375] , Object Function Value: 9.72708654461277e-07\n",
            "[σ]= [0.110625] , Object Function Value: 1.7259169626632546e-05\n",
            "[σ]= [0.11132812] , Object Function Value: 3.6462444784435694e-07\n",
            "[σ]= [0.1115625] , Object Function Value: 4.830931646881047e-06\n",
            "[σ]= [0.11121094] , Object Function Value: 3.675258043739849e-08\n",
            "[σ]= [0.11109375] , Object Function Value: 9.727086544472614e-07\n",
            "[σ]= [0.11126953] , Object Function Value: 4.241166264930855e-08\n",
            "Optimization terminated successfully.\n",
            "         Current function value: 0.000000\n",
            "         Iterations: 16\n",
            "         Function evaluations: 32\n"
          ]
        }
      ]
    },
    {
      "cell_type": "code",
      "source": [
        "iv = s[0]\n",
        "print('Implied volitility is',iv)"
      ],
      "metadata": {
        "colab": {
          "base_uri": "https://localhost:8080/"
        },
        "id": "yOhYucNB_B-Q",
        "outputId": "5752785e-15ed-4d86-f556-f8f84052ce3a"
      },
      "execution_count": 6,
      "outputs": [
        {
          "output_type": "stream",
          "name": "stdout",
          "text": [
            "Implied volitility is 0.11121093749999947\n"
          ]
        }
      ]
    },
    {
      "cell_type": "code",
      "source": [],
      "metadata": {
        "id": "UFvUXX84fI_q"
      },
      "execution_count": null,
      "outputs": []
    }
  ]
}