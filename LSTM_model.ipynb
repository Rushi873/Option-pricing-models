{
  "nbformat": 4,
  "nbformat_minor": 0,
  "metadata": {
    "colab": {
      "provenance": [],
      "authorship_tag": "ABX9TyNkaOpQD+pzjPGKvkODDmD5",
      "include_colab_link": true
    },
    "kernelspec": {
      "name": "python3",
      "display_name": "Python 3"
    },
    "language_info": {
      "name": "python"
    }
  },
  "cells": [
    {
      "cell_type": "markdown",
      "metadata": {
        "id": "view-in-github",
        "colab_type": "text"
      },
      "source": [
        "<a href=\"https://colab.research.google.com/github/Rushi873/Option-pricing-models/blob/main/LSTM_model.ipynb\" target=\"_parent\"><img src=\"https://colab.research.google.com/assets/colab-badge.svg\" alt=\"Open In Colab\"/></a>"
      ]
    },
    {
      "cell_type": "code",
      "source": [
        "import pandas as pd\n",
        "import pandas_datareader as web\n",
        "import matplotlib.pyplot as plt\n",
        "import numpy as np\n",
        "import datetime as dt\n",
        "\n",
        "from sklearn.preprocessing import MinMaxScaler\n",
        "from tensorflow.keras.models import Sequential\n",
        "from tensorflow.keras.layers import Dense, Dropout, LSTM"
      ],
      "metadata": {
        "id": "q0n-m-CAdVp1"
      },
      "execution_count": 1,
      "outputs": []
    },
    {
      "cell_type": "code",
      "source": [
        "# Loading Data,\n",
        "company = 'GS'     # change ticker symbol to get the prediction\n",
        "\n",
        "start = dt.datetime(2010, 1, 1)\n",
        "end = dt.datetime(2021, 1, 1)\n",
        "\n",
        "data = web.DataReader(company, 'stooq', start, end)\n",
        "data"
      ],
      "metadata": {
        "colab": {
          "base_uri": "https://localhost:8080/",
          "height": 455
        },
        "id": "88uTNnOBdY-D",
        "outputId": "96ee986c-29c0-471e-aaef-48c46cb87c47"
      },
      "execution_count": 2,
      "outputs": [
        {
          "output_type": "execute_result",
          "data": {
            "text/plain": [
              "               Open     High      Low    Close        Volume\n",
              "Date                                                        \n",
              "2020-12-31  247.803  252.713  247.019  252.497  2.133763e+06\n",
              "2020-12-30  247.813  249.576  246.872  248.410  1.636333e+06\n",
              "2020-12-29  249.194  249.783  245.598  247.029  1.494400e+06\n",
              "2020-12-28  246.852  251.498  246.078  248.547  2.917421e+06\n",
              "2020-12-24  246.117  246.665  242.962  245.265  1.011133e+06\n",
              "...             ...      ...      ...      ...           ...\n",
              "2010-01-08  144.811  145.761  142.909  143.184  8.834766e+06\n",
              "2010-01-07  143.194  146.869  142.909  145.957  1.060932e+07\n",
              "2010-01-06  144.095  144.095  142.733  143.154  8.972135e+06\n",
              "2010-01-05  142.243  144.829  141.782  144.712  1.417372e+07\n",
              "2010-01-04  139.724  143.154  139.264  142.223  1.109230e+07\n",
              "\n",
              "[2769 rows x 5 columns]"
            ],
            "text/html": [
              "\n",
              "  <div id=\"df-9804c747-ca78-48d4-b8c1-4bd2621d47dd\" class=\"colab-df-container\">\n",
              "    <div>\n",
              "<style scoped>\n",
              "    .dataframe tbody tr th:only-of-type {\n",
              "        vertical-align: middle;\n",
              "    }\n",
              "\n",
              "    .dataframe tbody tr th {\n",
              "        vertical-align: top;\n",
              "    }\n",
              "\n",
              "    .dataframe thead th {\n",
              "        text-align: right;\n",
              "    }\n",
              "</style>\n",
              "<table border=\"1\" class=\"dataframe\">\n",
              "  <thead>\n",
              "    <tr style=\"text-align: right;\">\n",
              "      <th></th>\n",
              "      <th>Open</th>\n",
              "      <th>High</th>\n",
              "      <th>Low</th>\n",
              "      <th>Close</th>\n",
              "      <th>Volume</th>\n",
              "    </tr>\n",
              "    <tr>\n",
              "      <th>Date</th>\n",
              "      <th></th>\n",
              "      <th></th>\n",
              "      <th></th>\n",
              "      <th></th>\n",
              "      <th></th>\n",
              "    </tr>\n",
              "  </thead>\n",
              "  <tbody>\n",
              "    <tr>\n",
              "      <th>2020-12-31</th>\n",
              "      <td>247.803</td>\n",
              "      <td>252.713</td>\n",
              "      <td>247.019</td>\n",
              "      <td>252.497</td>\n",
              "      <td>2.133763e+06</td>\n",
              "    </tr>\n",
              "    <tr>\n",
              "      <th>2020-12-30</th>\n",
              "      <td>247.813</td>\n",
              "      <td>249.576</td>\n",
              "      <td>246.872</td>\n",
              "      <td>248.410</td>\n",
              "      <td>1.636333e+06</td>\n",
              "    </tr>\n",
              "    <tr>\n",
              "      <th>2020-12-29</th>\n",
              "      <td>249.194</td>\n",
              "      <td>249.783</td>\n",
              "      <td>245.598</td>\n",
              "      <td>247.029</td>\n",
              "      <td>1.494400e+06</td>\n",
              "    </tr>\n",
              "    <tr>\n",
              "      <th>2020-12-28</th>\n",
              "      <td>246.852</td>\n",
              "      <td>251.498</td>\n",
              "      <td>246.078</td>\n",
              "      <td>248.547</td>\n",
              "      <td>2.917421e+06</td>\n",
              "    </tr>\n",
              "    <tr>\n",
              "      <th>2020-12-24</th>\n",
              "      <td>246.117</td>\n",
              "      <td>246.665</td>\n",
              "      <td>242.962</td>\n",
              "      <td>245.265</td>\n",
              "      <td>1.011133e+06</td>\n",
              "    </tr>\n",
              "    <tr>\n",
              "      <th>...</th>\n",
              "      <td>...</td>\n",
              "      <td>...</td>\n",
              "      <td>...</td>\n",
              "      <td>...</td>\n",
              "      <td>...</td>\n",
              "    </tr>\n",
              "    <tr>\n",
              "      <th>2010-01-08</th>\n",
              "      <td>144.811</td>\n",
              "      <td>145.761</td>\n",
              "      <td>142.909</td>\n",
              "      <td>143.184</td>\n",
              "      <td>8.834766e+06</td>\n",
              "    </tr>\n",
              "    <tr>\n",
              "      <th>2010-01-07</th>\n",
              "      <td>143.194</td>\n",
              "      <td>146.869</td>\n",
              "      <td>142.909</td>\n",
              "      <td>145.957</td>\n",
              "      <td>1.060932e+07</td>\n",
              "    </tr>\n",
              "    <tr>\n",
              "      <th>2010-01-06</th>\n",
              "      <td>144.095</td>\n",
              "      <td>144.095</td>\n",
              "      <td>142.733</td>\n",
              "      <td>143.154</td>\n",
              "      <td>8.972135e+06</td>\n",
              "    </tr>\n",
              "    <tr>\n",
              "      <th>2010-01-05</th>\n",
              "      <td>142.243</td>\n",
              "      <td>144.829</td>\n",
              "      <td>141.782</td>\n",
              "      <td>144.712</td>\n",
              "      <td>1.417372e+07</td>\n",
              "    </tr>\n",
              "    <tr>\n",
              "      <th>2010-01-04</th>\n",
              "      <td>139.724</td>\n",
              "      <td>143.154</td>\n",
              "      <td>139.264</td>\n",
              "      <td>142.223</td>\n",
              "      <td>1.109230e+07</td>\n",
              "    </tr>\n",
              "  </tbody>\n",
              "</table>\n",
              "<p>2769 rows × 5 columns</p>\n",
              "</div>\n",
              "    <div class=\"colab-df-buttons\">\n",
              "\n",
              "  <div class=\"colab-df-container\">\n",
              "    <button class=\"colab-df-convert\" onclick=\"convertToInteractive('df-9804c747-ca78-48d4-b8c1-4bd2621d47dd')\"\n",
              "            title=\"Convert this dataframe to an interactive table.\"\n",
              "            style=\"display:none;\">\n",
              "\n",
              "  <svg xmlns=\"http://www.w3.org/2000/svg\" height=\"24px\" viewBox=\"0 -960 960 960\">\n",
              "    <path d=\"M120-120v-720h720v720H120Zm60-500h600v-160H180v160Zm220 220h160v-160H400v160Zm0 220h160v-160H400v160ZM180-400h160v-160H180v160Zm440 0h160v-160H620v160ZM180-180h160v-160H180v160Zm440 0h160v-160H620v160Z\"/>\n",
              "  </svg>\n",
              "    </button>\n",
              "\n",
              "  <style>\n",
              "    .colab-df-container {\n",
              "      display:flex;\n",
              "      gap: 12px;\n",
              "    }\n",
              "\n",
              "    .colab-df-convert {\n",
              "      background-color: #E8F0FE;\n",
              "      border: none;\n",
              "      border-radius: 50%;\n",
              "      cursor: pointer;\n",
              "      display: none;\n",
              "      fill: #1967D2;\n",
              "      height: 32px;\n",
              "      padding: 0 0 0 0;\n",
              "      width: 32px;\n",
              "    }\n",
              "\n",
              "    .colab-df-convert:hover {\n",
              "      background-color: #E2EBFA;\n",
              "      box-shadow: 0px 1px 2px rgba(60, 64, 67, 0.3), 0px 1px 3px 1px rgba(60, 64, 67, 0.15);\n",
              "      fill: #174EA6;\n",
              "    }\n",
              "\n",
              "    .colab-df-buttons div {\n",
              "      margin-bottom: 4px;\n",
              "    }\n",
              "\n",
              "    [theme=dark] .colab-df-convert {\n",
              "      background-color: #3B4455;\n",
              "      fill: #D2E3FC;\n",
              "    }\n",
              "\n",
              "    [theme=dark] .colab-df-convert:hover {\n",
              "      background-color: #434B5C;\n",
              "      box-shadow: 0px 1px 3px 1px rgba(0, 0, 0, 0.15);\n",
              "      filter: drop-shadow(0px 1px 2px rgba(0, 0, 0, 0.3));\n",
              "      fill: #FFFFFF;\n",
              "    }\n",
              "  </style>\n",
              "\n",
              "    <script>\n",
              "      const buttonEl =\n",
              "        document.querySelector('#df-9804c747-ca78-48d4-b8c1-4bd2621d47dd button.colab-df-convert');\n",
              "      buttonEl.style.display =\n",
              "        google.colab.kernel.accessAllowed ? 'block' : 'none';\n",
              "\n",
              "      async function convertToInteractive(key) {\n",
              "        const element = document.querySelector('#df-9804c747-ca78-48d4-b8c1-4bd2621d47dd');\n",
              "        const dataTable =\n",
              "          await google.colab.kernel.invokeFunction('convertToInteractive',\n",
              "                                                    [key], {});\n",
              "        if (!dataTable) return;\n",
              "\n",
              "        const docLinkHtml = 'Like what you see? Visit the ' +\n",
              "          '<a target=\"_blank\" href=https://colab.research.google.com/notebooks/data_table.ipynb>data table notebook</a>'\n",
              "          + ' to learn more about interactive tables.';\n",
              "        element.innerHTML = '';\n",
              "        dataTable['output_type'] = 'display_data';\n",
              "        await google.colab.output.renderOutput(dataTable, element);\n",
              "        const docLink = document.createElement('div');\n",
              "        docLink.innerHTML = docLinkHtml;\n",
              "        element.appendChild(docLink);\n",
              "      }\n",
              "    </script>\n",
              "  </div>\n",
              "\n",
              "\n",
              "<div id=\"df-2c047866-4ce5-43e6-b1a0-bf8f6620666a\">\n",
              "  <button class=\"colab-df-quickchart\" onclick=\"quickchart('df-2c047866-4ce5-43e6-b1a0-bf8f6620666a')\"\n",
              "            title=\"Suggest charts\"\n",
              "            style=\"display:none;\">\n",
              "\n",
              "<svg xmlns=\"http://www.w3.org/2000/svg\" height=\"24px\"viewBox=\"0 0 24 24\"\n",
              "     width=\"24px\">\n",
              "    <g>\n",
              "        <path d=\"M19 3H5c-1.1 0-2 .9-2 2v14c0 1.1.9 2 2 2h14c1.1 0 2-.9 2-2V5c0-1.1-.9-2-2-2zM9 17H7v-7h2v7zm4 0h-2V7h2v10zm4 0h-2v-4h2v4z\"/>\n",
              "    </g>\n",
              "</svg>\n",
              "  </button>\n",
              "\n",
              "<style>\n",
              "  .colab-df-quickchart {\n",
              "      --bg-color: #E8F0FE;\n",
              "      --fill-color: #1967D2;\n",
              "      --hover-bg-color: #E2EBFA;\n",
              "      --hover-fill-color: #174EA6;\n",
              "      --disabled-fill-color: #AAA;\n",
              "      --disabled-bg-color: #DDD;\n",
              "  }\n",
              "\n",
              "  [theme=dark] .colab-df-quickchart {\n",
              "      --bg-color: #3B4455;\n",
              "      --fill-color: #D2E3FC;\n",
              "      --hover-bg-color: #434B5C;\n",
              "      --hover-fill-color: #FFFFFF;\n",
              "      --disabled-bg-color: #3B4455;\n",
              "      --disabled-fill-color: #666;\n",
              "  }\n",
              "\n",
              "  .colab-df-quickchart {\n",
              "    background-color: var(--bg-color);\n",
              "    border: none;\n",
              "    border-radius: 50%;\n",
              "    cursor: pointer;\n",
              "    display: none;\n",
              "    fill: var(--fill-color);\n",
              "    height: 32px;\n",
              "    padding: 0;\n",
              "    width: 32px;\n",
              "  }\n",
              "\n",
              "  .colab-df-quickchart:hover {\n",
              "    background-color: var(--hover-bg-color);\n",
              "    box-shadow: 0 1px 2px rgba(60, 64, 67, 0.3), 0 1px 3px 1px rgba(60, 64, 67, 0.15);\n",
              "    fill: var(--button-hover-fill-color);\n",
              "  }\n",
              "\n",
              "  .colab-df-quickchart-complete:disabled,\n",
              "  .colab-df-quickchart-complete:disabled:hover {\n",
              "    background-color: var(--disabled-bg-color);\n",
              "    fill: var(--disabled-fill-color);\n",
              "    box-shadow: none;\n",
              "  }\n",
              "\n",
              "  .colab-df-spinner {\n",
              "    border: 2px solid var(--fill-color);\n",
              "    border-color: transparent;\n",
              "    border-bottom-color: var(--fill-color);\n",
              "    animation:\n",
              "      spin 1s steps(1) infinite;\n",
              "  }\n",
              "\n",
              "  @keyframes spin {\n",
              "    0% {\n",
              "      border-color: transparent;\n",
              "      border-bottom-color: var(--fill-color);\n",
              "      border-left-color: var(--fill-color);\n",
              "    }\n",
              "    20% {\n",
              "      border-color: transparent;\n",
              "      border-left-color: var(--fill-color);\n",
              "      border-top-color: var(--fill-color);\n",
              "    }\n",
              "    30% {\n",
              "      border-color: transparent;\n",
              "      border-left-color: var(--fill-color);\n",
              "      border-top-color: var(--fill-color);\n",
              "      border-right-color: var(--fill-color);\n",
              "    }\n",
              "    40% {\n",
              "      border-color: transparent;\n",
              "      border-right-color: var(--fill-color);\n",
              "      border-top-color: var(--fill-color);\n",
              "    }\n",
              "    60% {\n",
              "      border-color: transparent;\n",
              "      border-right-color: var(--fill-color);\n",
              "    }\n",
              "    80% {\n",
              "      border-color: transparent;\n",
              "      border-right-color: var(--fill-color);\n",
              "      border-bottom-color: var(--fill-color);\n",
              "    }\n",
              "    90% {\n",
              "      border-color: transparent;\n",
              "      border-bottom-color: var(--fill-color);\n",
              "    }\n",
              "  }\n",
              "</style>\n",
              "\n",
              "  <script>\n",
              "    async function quickchart(key) {\n",
              "      const quickchartButtonEl =\n",
              "        document.querySelector('#' + key + ' button');\n",
              "      quickchartButtonEl.disabled = true;  // To prevent multiple clicks.\n",
              "      quickchartButtonEl.classList.add('colab-df-spinner');\n",
              "      try {\n",
              "        const charts = await google.colab.kernel.invokeFunction(\n",
              "            'suggestCharts', [key], {});\n",
              "      } catch (error) {\n",
              "        console.error('Error during call to suggestCharts:', error);\n",
              "      }\n",
              "      quickchartButtonEl.classList.remove('colab-df-spinner');\n",
              "      quickchartButtonEl.classList.add('colab-df-quickchart-complete');\n",
              "    }\n",
              "    (() => {\n",
              "      let quickchartButtonEl =\n",
              "        document.querySelector('#df-2c047866-4ce5-43e6-b1a0-bf8f6620666a button');\n",
              "      quickchartButtonEl.style.display =\n",
              "        google.colab.kernel.accessAllowed ? 'block' : 'none';\n",
              "    })();\n",
              "  </script>\n",
              "</div>\n",
              "    </div>\n",
              "  </div>\n"
            ],
            "application/vnd.google.colaboratory.intrinsic+json": {
              "type": "dataframe",
              "variable_name": "data",
              "summary": "{\n  \"name\": \"data\",\n  \"rows\": 2769,\n  \"fields\": [\n    {\n      \"column\": \"Date\",\n      \"properties\": {\n        \"dtype\": \"date\",\n        \"min\": \"2010-01-04 00:00:00\",\n        \"max\": \"2020-12-31 00:00:00\",\n        \"num_unique_values\": 2769,\n        \"samples\": [\n          \"2015-02-06 00:00:00\",\n          \"2014-02-25 00:00:00\",\n          \"2019-05-16 00:00:00\"\n        ],\n        \"semantic_type\": \"\",\n        \"description\": \"\"\n      }\n    },\n    {\n      \"column\": \"Open\",\n      \"properties\": {\n        \"dtype\": \"number\",\n        \"std\": 41.89612999169295,\n        \"min\": 72.908,\n        \"max\": 249.194,\n        \"num_unique_values\": 2487,\n        \"samples\": [\n          134.021,\n          136.216,\n          142.4\n        ],\n        \"semantic_type\": \"\",\n        \"description\": \"\"\n      }\n    },\n    {\n      \"column\": \"High\",\n      \"properties\": {\n        \"dtype\": \"number\",\n        \"std\": 42.155536702823845,\n        \"min\": 73.9223,\n        \"max\": 252.713,\n        \"num_unique_values\": 2483,\n        \"samples\": [\n          137.715,\n          182.052,\n          141.938\n        ],\n        \"semantic_type\": \"\",\n        \"description\": \"\"\n      }\n    },\n    {\n      \"column\": \"Low\",\n      \"properties\": {\n        \"dtype\": \"number\",\n        \"std\": 41.59907571818377,\n        \"min\": 69.7709,\n        \"max\": 247.019,\n        \"num_unique_values\": 2461,\n        \"samples\": [\n          77.618,\n          122.142,\n          140.41\n        ],\n        \"semantic_type\": \"\",\n        \"description\": \"\"\n      }\n    },\n    {\n      \"column\": \"Close\",\n      \"properties\": {\n        \"dtype\": \"number\",\n        \"std\": 41.869391414243275,\n        \"min\": 72.7659,\n        \"max\": 252.497,\n        \"num_unique_values\": 2482,\n        \"samples\": [\n          214.991,\n          205.73,\n          136.255\n        ],\n        \"semantic_type\": \"\",\n        \"description\": \"\"\n      }\n    },\n    {\n      \"column\": \"Volume\",\n      \"properties\": {\n        \"dtype\": \"number\",\n        \"std\": 5100234.552753111,\n        \"min\": 500254.92544989,\n        \"max\": 124071407.9261,\n        \"num_unique_values\": 2768,\n        \"samples\": [\n          2395474.6833206,\n          2487125.1806166,\n          3713620.0710744\n        ],\n        \"semantic_type\": \"\",\n        \"description\": \"\"\n      }\n    }\n  ]\n}"
            }
          },
          "metadata": {},
          "execution_count": 2
        }
      ]
    },
    {
      "cell_type": "code",
      "source": [
        "\n",
        "# Preparing data\n",
        "scalar = MinMaxScaler(feature_range=(0,1))      # using feature scaling\n",
        "scaled_data = scalar.fit_transform(data['Close'].values.reshape(-1,1))\n",
        "\n",
        "predication_days = 20\n",
        "\n",
        "x_train = []\n",
        "y_train = []\n",
        "\n",
        "for x in range(predication_days, len(scaled_data)):\n",
        "  x_train.append(scaled_data[x - predication_days:x , 0]) # from day 0 to day x, and creating 2D array\n",
        "  y_train.append(scaled_data[x, 0])\n",
        "\n",
        "x_train, y_train = np.array(x_train), np.array(y_train)\n",
        "x_train = np.reshape(x_train, (x_train.shape[0], x_train.shape[1], 1) )\n"
      ],
      "metadata": {
        "id": "fAOAnMQfdZAd"
      },
      "execution_count": 3,
      "outputs": []
    },
    {
      "cell_type": "code",
      "source": [
        "#Building Machine learning model\n",
        "model = Sequential()\n",
        "\n",
        "model.add(LSTM(units = 42, return_sequences = True, input_shape = (x_train.shape[1], 1)))\n",
        "model.add(Dropout(0.15))\n",
        "model.add(LSTM(units = 42, return_sequences = True))\n",
        "model.add(Dropout(0.15))\n",
        "model.add(LSTM(units = 42))\n",
        "model.add(Dropout(0.15))\n",
        "model.add(Dense(units=1))\n",
        "\n",
        "model.compile(optimizer ='adam', loss = 'mean_squared_error')\n",
        "model.fit(x_train, y_train, epochs = 19, batch_size = 34)"
      ],
      "metadata": {
        "colab": {
          "base_uri": "https://localhost:8080/"
        },
        "id": "KWXKWrpOdZDF",
        "outputId": "b9d7f24b-e27a-4cb8-8d12-942b40b14d9d"
      },
      "execution_count": 4,
      "outputs": [
        {
          "output_type": "stream",
          "name": "stdout",
          "text": [
            "Epoch 1/19\n",
            "81/81 [==============================] - 18s 29ms/step - loss: 0.0262\n",
            "Epoch 2/19\n",
            "81/81 [==============================] - 2s 29ms/step - loss: 0.0042\n",
            "Epoch 3/19\n",
            "81/81 [==============================] - 3s 32ms/step - loss: 0.0040\n",
            "Epoch 4/19\n",
            "81/81 [==============================] - 3s 40ms/step - loss: 0.0036\n",
            "Epoch 5/19\n",
            "81/81 [==============================] - 2s 29ms/step - loss: 0.0033\n",
            "Epoch 6/19\n",
            "81/81 [==============================] - 2s 29ms/step - loss: 0.0034\n",
            "Epoch 7/19\n",
            "81/81 [==============================] - 2s 29ms/step - loss: 0.0029\n",
            "Epoch 8/19\n",
            "81/81 [==============================] - 3s 31ms/step - loss: 0.0030\n",
            "Epoch 9/19\n",
            "81/81 [==============================] - 3s 40ms/step - loss: 0.0027\n",
            "Epoch 10/19\n",
            "81/81 [==============================] - 2s 29ms/step - loss: 0.0027\n",
            "Epoch 11/19\n",
            "81/81 [==============================] - 2s 29ms/step - loss: 0.0026\n",
            "Epoch 12/19\n",
            "81/81 [==============================] - 2s 29ms/step - loss: 0.0023\n",
            "Epoch 13/19\n",
            "81/81 [==============================] - 2s 30ms/step - loss: 0.0025\n",
            "Epoch 14/19\n",
            "81/81 [==============================] - 3s 42ms/step - loss: 0.0023\n",
            "Epoch 15/19\n",
            "81/81 [==============================] - 2s 29ms/step - loss: 0.0025\n",
            "Epoch 16/19\n",
            "81/81 [==============================] - 2s 29ms/step - loss: 0.0021\n",
            "Epoch 17/19\n",
            "81/81 [==============================] - 2s 29ms/step - loss: 0.0021\n",
            "Epoch 18/19\n",
            "81/81 [==============================] - 2s 29ms/step - loss: 0.0020\n",
            "Epoch 19/19\n",
            "81/81 [==============================] - 3s 42ms/step - loss: 0.0019\n"
          ]
        },
        {
          "output_type": "execute_result",
          "data": {
            "text/plain": [
              "<keras.src.callbacks.History at 0x7d4d1a1daad0>"
            ]
          },
          "metadata": {},
          "execution_count": 4
        }
      ]
    },
    {
      "cell_type": "code",
      "source": [
        "# Backtesting\n",
        "test_start = dt.datetime(2021, 1, 2)\n",
        "test_end = dt.datetime.now()\n",
        "\n",
        "test_data = web.DataReader(company, 'stooq', test_start, test_end)\n",
        "actual_price = test_data['Close'].values\n",
        "\n",
        "total_dataset = pd.concat((data['Close'], test_data['Close']))\n",
        "\n",
        "model_inputs = total_dataset[len(total_dataset) - len(test_data) - predication_days:].values\n",
        "model_inputs = model_inputs.reshape(-1, 1)\n",
        "model_inputs = scalar.transform(model_inputs)"
      ],
      "metadata": {
        "id": "P1GegNwpdZFH"
      },
      "execution_count": 5,
      "outputs": []
    },
    {
      "cell_type": "code",
      "source": [
        "# Making prediction on test data\n",
        "x_test = []\n",
        "\n",
        "for x in range(predication_days, len(model_inputs)):\n",
        "  x_test.append(model_inputs[x - predication_days : x, 0])\n",
        "\n",
        "x_test = np.array(x_test)\n",
        "x_test = np.reshape(x_test, (x_test.shape[0], x_test.shape[1], 1))\n",
        "\n",
        "predicated_prices = model.predict(x_test)\n",
        "predicated_prices = scalar.inverse_transform(predicated_prices)"
      ],
      "metadata": {
        "colab": {
          "base_uri": "https://localhost:8080/"
        },
        "id": "XsyDZyNqdZHp",
        "outputId": "fa5afeb1-e694-4cf8-d941-12a34437109d"
      },
      "execution_count": 6,
      "outputs": [
        {
          "output_type": "stream",
          "name": "stdout",
          "text": [
            "26/26 [==============================] - 2s 9ms/step\n"
          ]
        }
      ]
    },
    {
      "cell_type": "code",
      "source": [
        "#plot the test predication\n",
        "plt.plot(actual_price, color = 'red', label = f\"Actual {company} price\")\n",
        "plt.plot(predicated_prices, color = 'green', label = f\"Predicated {company} price\")\n",
        "plt.title(f\"{company} Share price\")\n",
        "plt.xlabel('Time')\n",
        "plt.ylabel(f\"{company}\")\n",
        "plt.legend()\n",
        "plt.show()"
      ],
      "metadata": {
        "colab": {
          "base_uri": "https://localhost:8080/",
          "height": 472
        },
        "id": "wjMiIEm7dZKG",
        "outputId": "095c9af9-7105-4060-b44f-884d09f381c8"
      },
      "execution_count": 7,
      "outputs": [
        {
          "output_type": "display_data",
          "data": {
            "text/plain": [
              "<Figure size 640x480 with 1 Axes>"
            ],
            "image/png": "[encoded data removed]"
          },
          "metadata": {}
        }
      ]
    },
    {
      "cell_type": "code",
      "source": [
        "#predict next day\n",
        "real_data = [model_inputs[len(model_inputs) + 1 - predication_days: len(model_inputs+1), 0]]\n",
        "real_data = np.array(real_data)\n",
        "real_data = np.reshape(real_data, (real_data.shape[0], real_data.shape[1], 1))\n",
        "\n",
        "predication = model.predict(real_data)\n",
        "predication = scalar.inverse_transform(predication)\n",
        "print(f\"Predication: {predication}\")"
      ],
      "metadata": {
        "colab": {
          "base_uri": "https://localhost:8080/"
        },
        "id": "-RVQq7zWdZMu",
        "outputId": "b7703534-68ad-4dd6-90f0-63b2bcd2a252"
      },
      "execution_count": 8,
      "outputs": [
        {
          "output_type": "stream",
          "name": "stdout",
          "text": [
            "1/1 [==============================] - 1s 1s/step\n",
            "Predication: [[270.1987]]\n"
          ]
        }
      ]
    },
    {
      "cell_type": "code",
      "source": [
        "data = web.DataReader(company, 'stooq', dt.datetime(2021, 1, 1), dt.datetime(2021, 1, 4))\n",
        "real = int(data.Close)\n",
        "accuracy = 100 - abs(((real - predication )/real)*100)\n",
        "print(f\"accuracy of predication is {accuracy}%\")"
      ],
      "metadata": {
        "colab": {
          "base_uri": "https://localhost:8080/"
        },
        "id": "Krw-FH3BdZOr",
        "outputId": "eb879581-b52d-4b55-d0e9-5ac0308b36e7"
      },
      "execution_count": 9,
      "outputs": [
        {
          "output_type": "stream",
          "name": "stdout",
          "text": [
            "accuracy of predication is [[93.202095]]%\n"
          ]
        },
        {
          "output_type": "stream",
          "name": "stderr",
          "text": [
            "<ipython-input-9-b79b9cebc15b>:2: FutureWarning: Calling int on a single element Series is deprecated and will raise a TypeError in the future. Use int(ser.iloc[0]) instead\n",
            "  real = int(data.Close)\n"
          ]
        }
      ]
    },
    {
      "cell_type": "code",
      "source": [],
      "metadata": {
        "id": "wlKvT9C3fVrm"
      },
      "execution_count": 9,
      "outputs": []
    }
  ]
}