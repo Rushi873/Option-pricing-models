{
  "nbformat": 4,
  "nbformat_minor": 0,
  "metadata": {
    "colab": {
      "provenance": [],
      "include_colab_link": true
    },
    "kernelspec": {
      "name": "python3",
      "display_name": "Python 3"
    },
    "language_info": {
      "name": "python"
    }
  },
  "cells": [
    {
      "cell_type": "markdown",
      "metadata": {
        "id": "view-in-github",
        "colab_type": "text"
      },
      "source": [
        "<a href=\"https://colab.research.google.com/github/Rushi873/Option-pricing-models/blob/main/Monte_Carlo_simulation.ipynb\" target=\"_parent\"><img src=\"https://colab.research.google.com/assets/colab-badge.svg\" alt=\"Open In Colab\"/></a>"
      ]
    },
    {
      "cell_type": "code",
      "execution_count": 1,
      "metadata": {
        "id": "hOHrOmeOqh_X"
      },
      "outputs": [],
      "source": [
        "import math\n",
        "import numpy as np\n",
        "import pandas as pd\n",
        "import datetime\n",
        "import scipy.stats as stats\n",
        "import matplotlib.pyplot as plt\n",
        "from pandas_datareader import data as pdr"
      ]
    },
    {
      "cell_type": "code",
      "source": [
        "# Initialization of the constants\n",
        "\n",
        "\n",
        "strike_prices = [ 19100, 19150, 19200, 19250,\n",
        "    19300, 19350,\n",
        "    19400, 19450, 19500, 19550, 19600,\n",
        "    19650, 19700, 19750, 19800, 19850, 19900,\n",
        "    19950, 20000, 20050, 20100\n",
        "]\n",
        "\n",
        "n = len(strike_prices)\n",
        "\n",
        "S = np.full(n, 19433.55)   #stock price, np array\n",
        "\n",
        "\n",
        "K = np.array(strike_prices)  #stock price, np array\n",
        "\n",
        "implied_volatilities = [5.05, 6.56, 6.82, 7.13, 7.37, 7.62, 7.65, 7.68, 7.83, 7.85, 7.84,\n",
        "       7.79, 7.78, 7.79, 7.83, 7.86, 7.89, 8.01, 8.1 , 8.12, 8.13]\n",
        "\n",
        "implied_volatilities_array = np.array(implied_volatilities)\n",
        "iv = implied_volatilities_array /100    # volatility (%), np array\n",
        "\n",
        "r = np.full(n, 0.065)   # risk-free rate (%), np array\n",
        "\n",
        "T = np.full(n, 0.04383561644)  # time in years, np array\n",
        "\n",
        "N =171              #number of time steps\n",
        "M = 8000            #number of simulations\n"
      ],
      "metadata": {
        "id": "yLflY8U4rmMv"
      },
      "execution_count": 2,
      "outputs": []
    },
    {
      "cell_type": "code",
      "source": [
        "SE_results_put = []  # Store SE results for each iteration\n",
        "\n",
        "for i in range(n):\n",
        "    dt = T[i] / N\n",
        "    nudt = (r[i] - 0.5 * iv[i] ** 2) * dt\n",
        "    volsdt = iv[i] * np.sqrt(dt)\n",
        "    lnS = np.log(S[i])\n",
        "\n",
        "    # Monte Carlo Method\n",
        "    Z = np.random.normal(size=(N, M))\n",
        "    delta_lnSt = nudt + volsdt * Z\n",
        "    lnSt = lnS + np.cumsum(delta_lnSt, axis=0)\n",
        "    lnSt = np.concatenate((np.full(shape=(1, M), fill_value=lnS), lnSt))\n",
        "\n",
        "    # Compute Expectation and SE for Put Option\n",
        "    ST = np.exp(lnSt)\n",
        "    PT = np.maximum(0, K[i] - ST)\n",
        "    P0 = np.exp(-r[i] * T[i]) * np.sum(PT[-1]) / M\n",
        "\n",
        "    sigma = np.sqrt(np.sum((PT[-1] - P0) ** 2) / (M - 1))\n",
        "    SE = N* sigma / np.sqrt(M)\n",
        "\n",
        "    SE_results_put.append(SE)\n",
        "\n",
        "# Convert SE_results_put to a NumPy array\n",
        "SE_results_put = np.array(SE_results_put)\n",
        "\n",
        "print(\"Array of SE values for European Put option:\", SE_results_put)"
      ],
      "metadata": {
        "colab": {
          "base_uri": "https://localhost:8080/"
        },
        "id": "TWTbCdiXquP2",
        "outputId": "f2beb39a-8904-4948-c6bc-567743aa76a3"
      },
      "execution_count": 3,
      "outputs": [
        {
          "output_type": "stream",
          "name": "stdout",
          "text": [
            "Array of SE values for European Put option: [ 34.6948705  102.42157923 121.97069751 172.72446562 209.4077934\n",
            " 247.27978609 280.94791919 318.03306477 354.1649784  385.27519399\n",
            " 425.2822364  452.03626324 471.23544001 498.3010291  526.80975402\n",
            " 538.25804305 561.43497257 583.84589417 598.48439733 607.90623221\n",
            " 610.32447634]\n"
          ]
        }
      ]
    },
    {
      "cell_type": "code",
      "source": [
        "SE_results_call = []  # Store SE results for each iteration\n",
        "\n",
        "for i in range(n):\n",
        "    dt = T[i] / N\n",
        "    nudt = (r[i] - 0.5 * iv[i] ** 2) * dt\n",
        "    volsdt = iv[i] * np.sqrt(dt)\n",
        "    lnS = np.log(S[i])\n",
        "\n",
        "    # Monte Carlo Method\n",
        "    Z = np.random.normal(size=(N, M))\n",
        "    delta_lnSt = nudt + volsdt * Z\n",
        "    lnSt = lnS + np.cumsum(delta_lnSt, axis=0)\n",
        "    lnSt = np.concatenate((np.full(shape=(1, M), fill_value=lnS), lnSt))\n",
        "\n",
        "    # Compute Expectation and SE for call option\n",
        "    ST = np.exp(lnSt)\n",
        "    CT = np.maximum(0, ST - K[i])\n",
        "    C0 = np.exp(-r[i] * T[i]) * np.sum(CT[-1]) / M\n",
        "\n",
        "    sigma = np.sqrt(np.sum((CT[-1] - C0) ** 2) / (M - 1))\n",
        "    SE = N*sigma / np.sqrt(M)\n",
        "\n",
        "    SE_results_call.append(SE)\n",
        "\n",
        "# Convert SE_results to a NumPy array\n",
        "SE_results_call = np.array(SE_results_call)\n",
        "\n",
        "print(\"Array of SE values for European call option:\", SE_results_call)"
      ],
      "metadata": {
        "colab": {
          "base_uri": "https://localhost:8080/"
        },
        "id": "mhYHSj0z6j5W",
        "outputId": "0471520e-9925-4bff-d639-997bbd3f47bc"
      },
      "execution_count": 4,
      "outputs": [
        {
          "output_type": "stream",
          "name": "stdout",
          "text": [
            "Array of SE values for European call option: [379.02295257 470.33903294 466.61304982 456.01238355 452.07398421\n",
            " 437.62705771 411.42015902 373.35727157 355.5833762  322.78996744\n",
            " 287.75252803 251.6576928  225.67429657 186.89433288 170.01876325\n",
            " 144.1408979  130.57230309 111.22610432  94.05594023  73.90504301\n",
            "  68.05007873]\n"
          ]
        }
      ]
    },
    {
      "cell_type": "code",
      "source": [],
      "metadata": {
        "id": "1sxkN01oESeG"
      },
      "execution_count": 4,
      "outputs": []
    }
  ]
}